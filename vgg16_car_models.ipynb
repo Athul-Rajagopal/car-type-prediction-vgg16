{
  "nbformat": 4,
  "nbformat_minor": 0,
  "metadata": {
    "colab": {
      "provenance": [],
      "mount_file_id": "1lMS-QYMF4VUN18p2b66w9Y2VAIir2UyA",
      "authorship_tag": "ABX9TyNjfa2e7giUBfIWt8ODh2IT",
      "include_colab_link": true
    },
    "kernelspec": {
      "name": "python3",
      "display_name": "Python 3"
    },
    "language_info": {
      "name": "python"
    },
    "accelerator": "GPU"
  },
  "cells": [
    {
      "cell_type": "markdown",
      "metadata": {
        "id": "view-in-github",
        "colab_type": "text"
      },
      "source": [
        "<a href=\"https://colab.research.google.com/github/Athul-Rajagopal/car-type-prediction-vgg16/blob/master/vgg16_car_models.ipynb\" target=\"_parent\"><img src=\"https://colab.research.google.com/assets/colab-badge.svg\" alt=\"Open In Colab\"/></a>"
      ]
    },
    {
      "cell_type": "code",
      "metadata": {
        "id": "hdwdMsyNB2AF"
      },
      "source": [
        "import pathlib\n",
        "from glob import glob\n",
        "import numpy as np\n",
        "import matplotlib.pyplot as plt\n",
        "import tensorflow\n",
        "import sklearn\n",
        "import cv2"
      ],
      "execution_count": null,
      "outputs": []
    },
    {
      "cell_type": "code",
      "metadata": {
        "id": "Lf-m_ev-CYCQ"
      },
      "source": [
        "from tensorflow.keras.applications.vgg16 import VGG16,decode_predictions,preprocess_input\n",
        "from tensorflow.keras.layers import Dense,Flatten\n",
        "from tensorflow.keras.models import Model"
      ],
      "execution_count": null,
      "outputs": []
    },
    {
      "cell_type": "code",
      "metadata": {
        "id": "BDHg6OuRChtP",
        "colab": {
          "base_uri": "https://localhost:8080/"
        },
        "outputId": "c4de13cd-4a75-4d3d-9558-9c9380c3e17f"
      },
      "source": [
        "vgg=VGG16(input_shape=(224,224,3),include_top=False,weights='imagenet')"
      ],
      "execution_count": null,
      "outputs": [
        {
          "output_type": "stream",
          "text": [
            "Downloading data from https://storage.googleapis.com/tensorflow/keras-applications/vgg16/vgg16_weights_tf_dim_ordering_tf_kernels_notop.h5\n",
            "58892288/58889256 [==============================] - 2s 0us/step\n"
          ],
          "name": "stdout"
        }
      ]
    },
    {
      "cell_type": "code",
      "metadata": {
        "id": "oWnw2DxoC0jw"
      },
      "source": [
        "for layer in vgg.layers:\n",
        "    layer.trainable=False"
      ],
      "execution_count": null,
      "outputs": []
    },
    {
      "cell_type": "code",
      "metadata": {
        "id": "kblEroZpDDZX"
      },
      "source": [
        "model_temp= Flatten()(vgg.output)\n",
        "outlayer1=Dense(5,activation='softmax')(model_temp)"
      ],
      "execution_count": null,
      "outputs": []
    },
    {
      "cell_type": "code",
      "metadata": {
        "id": "p4Wgl02WDKmH"
      },
      "source": [
        "model=Model(inputs=vgg.input,outputs=outlayer1)"
      ],
      "execution_count": null,
      "outputs": []
    },
    {
      "cell_type": "code",
      "metadata": {
        "id": "ldDj1oecDM1Q"
      },
      "source": [
        "from tensorflow.keras.losses import SparseCategoricalCrossentropy\n",
        "from tensorflow.keras.optimizers import Adam"
      ],
      "execution_count": null,
      "outputs": []
    },
    {
      "cell_type": "code",
      "metadata": {
        "id": "BT22wcu3JVBl"
      },
      "source": [
        "model.compile(optimizer=Adam(),loss=SparseCategoricalCrossentropy(),metrics=['accuracy'])"
      ],
      "execution_count": null,
      "outputs": []
    },
    {
      "cell_type": "code",
      "metadata": {
        "id": "osrlg6VlJfz_"
      },
      "source": [
        "path=pathlib.Path(r'/content/drive/MyDrive/Colab Notebooks/CNN/car_model')"
      ],
      "execution_count": null,
      "outputs": []
    },
    {
      "cell_type": "code",
      "metadata": {
        "id": "d1fD7g0AVNG5"
      },
      "source": [
        "cross=list(path.glob('crossover/*.jpg'))+list(path.glob('crossover/*.jpg'))\n",
        "hatch=list(path.glob('hacth/*.jpg'))+list(path.glob('hacth/*.jpg'))\n",
        "muvs=list(path.glob('muvs/*.jpg'))+list(path.glob('muvs/*.jpg'))\n",
        "sed=list(path.glob('sedan/*.jpg'))+list(path.glob('sedan/*.jpg'))\n",
        "suvs=list(path.glob('suvs/*.jpg'))+list(path.glob('suvs/*.jpg'))"
      ],
      "execution_count": null,
      "outputs": []
    },
    {
      "cell_type": "code",
      "metadata": {
        "colab": {
          "base_uri": "https://localhost:8080/"
        },
        "id": "S49Asg41Vx7q",
        "outputId": "c2b45eed-8582-405a-96c5-38bff2b860e2"
      },
      "source": [
        "len(cross), len(hatch), len(muvs), len(sed), len(suvs)"
      ],
      "execution_count": null,
      "outputs": [
        {
          "output_type": "execute_result",
          "data": {
            "text/plain": [
              "(208, 236, 248, 274, 330)"
            ]
          },
          "metadata": {
            "tags": []
          },
          "execution_count": 11
        }
      ]
    },
    {
      "cell_type": "code",
      "metadata": {
        "id": "tsCeirbAV-WK"
      },
      "source": [
        "model_li={'cross_over':cross,'hatch_back':hatch,'MUV':muvs,'sedan':sed,'SUV':suvs}\n",
        "labels={'cross_over':0,'hatch_back':1,'MUV':2,'sedan':3,'SUV':4}"
      ],
      "execution_count": null,
      "outputs": []
    },
    {
      "cell_type": "code",
      "metadata": {
        "id": "B26BgQ6gXOFa"
      },
      "source": [
        "x=[]\n",
        "y=[]"
      ],
      "execution_count": null,
      "outputs": []
    },
    {
      "cell_type": "code",
      "metadata": {
        "id": "_2_wCOajWlBV"
      },
      "source": [
        "for model_names in model_li:\n",
        "    name_path=model_li[model_names]\n",
        "    for cars in name_path:\n",
        "        car_img=cv2.imread(str(cars))\n",
        "        car_img=cv2.resize(car_img,(224,224))\n",
        "        car_img=car_img/255\n",
        "        x.append(car_img)\n",
        "        y.append(labels[model_names])\n"
      ],
      "execution_count": null,
      "outputs": []
    },
    {
      "cell_type": "code",
      "metadata": {
        "colab": {
          "base_uri": "https://localhost:8080/"
        },
        "id": "448ok0lRXcRk",
        "outputId": "699719af-362f-4a01-be0d-5c03e5077e97"
      },
      "source": [
        "x=np.array(x)\n",
        "y=np.array(y)\n",
        "\n",
        "x.shape, y.shape"
      ],
      "execution_count": null,
      "outputs": [
        {
          "output_type": "execute_result",
          "data": {
            "text/plain": [
              "((1296, 224, 224, 3), (1296,))"
            ]
          },
          "metadata": {
            "tags": []
          },
          "execution_count": 15
        }
      ]
    },
    {
      "cell_type": "code",
      "metadata": {
        "colab": {
          "base_uri": "https://localhost:8080/"
        },
        "id": "NKuKVLm1pPgs",
        "outputId": "2df85042-21de-4b91-fca9-28313947a782"
      },
      "source": [
        "y"
      ],
      "execution_count": null,
      "outputs": [
        {
          "output_type": "execute_result",
          "data": {
            "text/plain": [
              "array([0, 0, 0, ..., 4, 4, 4])"
            ]
          },
          "metadata": {
            "tags": []
          },
          "execution_count": 357
        }
      ]
    },
    {
      "cell_type": "code",
      "metadata": {
        "id": "AnqffkUQYj2F"
      },
      "source": [
        "from sklearn.model_selection import train_test_split"
      ],
      "execution_count": null,
      "outputs": []
    },
    {
      "cell_type": "code",
      "metadata": {
        "colab": {
          "base_uri": "https://localhost:8080/"
        },
        "id": "FKR99jUhYr8h",
        "outputId": "2126d1d4-8de9-4c55-f983-8315bc797b1f"
      },
      "source": [
        "xtrain,xtest,ytrain,ytest=train_test_split(x,y,test_size=.3,random_state=1)\n",
        "\n",
        "xtrain.shape, ytrain.shape, xtest.shape, ytest.shape"
      ],
      "execution_count": null,
      "outputs": [
        {
          "output_type": "execute_result",
          "data": {
            "text/plain": [
              "((907, 224, 224, 3), (907,), (389, 224, 224, 3), (389,))"
            ]
          },
          "metadata": {
            "tags": []
          },
          "execution_count": 17
        }
      ]
    },
    {
      "cell_type": "code",
      "metadata": {
        "id": "v_1eEjsRoE5Z"
      },
      "source": [
        "xtrain=xtrain.reshape(907,224,224,3)\n",
        "xtest=xtest.reshape(389,224,224,3)"
      ],
      "execution_count": null,
      "outputs": []
    },
    {
      "cell_type": "code",
      "metadata": {
        "id": "hwBN-mUizPfZ"
      },
      "source": [
        "xtrain, ytrain"
      ],
      "execution_count": null,
      "outputs": []
    },
    {
      "cell_type": "code",
      "metadata": {
        "colab": {
          "base_uri": "https://localhost:8080/"
        },
        "id": "7XFapYnnY-4k",
        "outputId": "7e2f0dc4-e74d-4f56-c42d-af8e5c137c45"
      },
      "source": [
        "hist=model.fit(xtrain,ytrain,batch_size=90,epochs=10,verbose=1,validation_data=(xtest,ytest))"
      ],
      "execution_count": null,
      "outputs": [
        {
          "output_type": "stream",
          "text": [
            "Epoch 1/10\n",
            "11/11 [==============================] - 74s 2s/step - loss: 1.9088 - accuracy: 0.2972 - val_loss: 1.1187 - val_accuracy: 0.5450\n",
            "Epoch 2/10\n",
            "11/11 [==============================] - 10s 976ms/step - loss: 0.7906 - accuracy: 0.7301 - val_loss: 0.8825 - val_accuracy: 0.6658\n",
            "Epoch 3/10\n",
            "11/11 [==============================] - 10s 979ms/step - loss: 0.6019 - accuracy: 0.7997 - val_loss: 0.6635 - val_accuracy: 0.8123\n",
            "Epoch 4/10\n",
            "11/11 [==============================] - 10s 975ms/step - loss: 0.3441 - accuracy: 0.9360 - val_loss: 0.5725 - val_accuracy: 0.8380\n",
            "Epoch 5/10\n",
            "11/11 [==============================] - 10s 974ms/step - loss: 0.2266 - accuracy: 0.9696 - val_loss: 0.5265 - val_accuracy: 0.8535\n",
            "Epoch 6/10\n",
            "11/11 [==============================] - 10s 976ms/step - loss: 0.1703 - accuracy: 0.9845 - val_loss: 0.4538 - val_accuracy: 0.8792\n",
            "Epoch 7/10\n",
            "11/11 [==============================] - 10s 979ms/step - loss: 0.1283 - accuracy: 0.9950 - val_loss: 0.4089 - val_accuracy: 0.8869\n",
            "Epoch 8/10\n",
            "11/11 [==============================] - 10s 975ms/step - loss: 0.0992 - accuracy: 0.9913 - val_loss: 0.3933 - val_accuracy: 0.8843\n",
            "Epoch 9/10\n",
            "11/11 [==============================] - 10s 972ms/step - loss: 0.0801 - accuracy: 0.9985 - val_loss: 0.3859 - val_accuracy: 0.8792\n",
            "Epoch 10/10\n",
            "11/11 [==============================] - 10s 973ms/step - loss: 0.0669 - accuracy: 1.0000 - val_loss: 0.3803 - val_accuracy: 0.8972\n"
          ],
          "name": "stdout"
        }
      ]
    },
    {
      "cell_type": "code",
      "metadata": {
        "colab": {
          "base_uri": "https://localhost:8080/",
          "height": 296
        },
        "id": "gSfpL34Bb_9z",
        "outputId": "5ff53114-4271-4a72-95dc-aa0b3a0b9f68"
      },
      "source": [
        "plt.plot(hist.history['accuracy'],label='accuracy')\n",
        "plt.plot(hist.history['val_accuracy'],label='validation accu')\n",
        "plt.xlabel('epochs')\n",
        "plt.ylabel('accuracy value')\n",
        "plt.legend()"
      ],
      "execution_count": null,
      "outputs": [
        {
          "output_type": "execute_result",
          "data": {
            "text/plain": [
              "<matplotlib.legend.Legend at 0x7fe1e348b690>"
            ]
          },
          "metadata": {
            "tags": []
          },
          "execution_count": 20
        },
        {
          "output_type": "display_data",
          "data": {
            "image/png": "[encoded data removed]",
            "text/plain": [
              "<Figure size 432x288 with 1 Axes>"
            ]
          },
          "metadata": {
            "tags": [],
            "needs_background": "light"
          }
        }
      ]
    },
    {
      "cell_type": "code",
      "metadata": {
        "id": "S_YQRLCechXs"
      },
      "source": [
        "img=cv2.imread(r'/content/drive/MyDrive/Colab Notebooks/CNN/car_model/sedan/MercedesBenz-CLS-Exterior-141234.jpg')\n",
        "img=cv2.resize(img,(224,224))\n",
        "img=img/255\n",
        "img_to_predict=np.array(img).reshape(1,224,224,3)\n"
      ],
      "execution_count": null,
      "outputs": []
    },
    {
      "cell_type": "code",
      "metadata": {
        "colab": {
          "base_uri": "https://localhost:8080/"
        },
        "id": "3zuNtwexkWsn",
        "outputId": "5f12cab4-10fb-4a76-e9f3-b40e3167002c"
      },
      "source": [
        "img.shape\n"
      ],
      "execution_count": null,
      "outputs": [
        {
          "output_type": "execute_result",
          "data": {
            "text/plain": [
              "(224, 224, 3)"
            ]
          },
          "metadata": {
            "tags": []
          },
          "execution_count": 22
        }
      ]
    },
    {
      "cell_type": "code",
      "metadata": {
        "colab": {
          "base_uri": "https://localhost:8080/",
          "height": 286
        },
        "id": "hvVzzcN_mcTV",
        "outputId": "ef17de19-233d-4981-d8a3-403300e94d18"
      },
      "source": [
        "plt.imshow(img)"
      ],
      "execution_count": null,
      "outputs": [
        {
          "output_type": "execute_result",
          "data": {
            "text/plain": [
              "<matplotlib.image.AxesImage at 0x7fe1e2f0c9d0>"
            ]
          },
          "metadata": {
            "tags": []
          },
          "execution_count": 23
        },
        {
          "output_type": "display_data",
          "data": {
            "image/png": "[encoded data removed]",
            "text/plain": [
              "<Figure size 432x288 with 1 Axes>"
            ]
          },
          "metadata": {
            "tags": [],
            "needs_background": "light"
          }
        }
      ]
    },
    {
      "cell_type": "code",
      "metadata": {
        "colab": {
          "base_uri": "https://localhost:8080/"
        },
        "id": "hDDh3_ukrr8s",
        "outputId": "a3ddacfa-b83a-4327-bbba-d7318e6f2f92"
      },
      "source": [
        "res=model.predict(img_to_predict)\n",
        "res.ndim"
      ],
      "execution_count": null,
      "outputs": [
        {
          "output_type": "execute_result",
          "data": {
            "text/plain": [
              "2"
            ]
          },
          "metadata": {
            "tags": []
          },
          "execution_count": 24
        }
      ]
    },
    {
      "cell_type": "code",
      "metadata": {
        "colab": {
          "base_uri": "https://localhost:8080/"
        },
        "id": "ngrbg76ps6qQ",
        "outputId": "e827feec-d7a3-4548-9155-eaeaae08a1a3"
      },
      "source": [
        "labels={'cross_over':0,'hatch_back':1,'MUV':2,'sedan':3,'SUV':4}\n",
        "for i in labels:\n",
        "    if np.argmax(res)==labels[i]:\n",
        "        print('model=>',i)\n",
        ""
      ],
      "execution_count": null,
      "outputs": [
        {
          "output_type": "stream",
          "text": [
            "model=> sedan\n"
          ],
          "name": "stdout"
        }
      ]
    },
    {
      "cell_type": "code",
      "metadata": {
        "id": "mwfbAyw60JA_"
      },
      "source": [],
      "execution_count": null,
      "outputs": []
    },
    {
      "cell_type": "code",
      "metadata": {
        "id": "EnWM14F702cN"
      },
      "source": [],
      "execution_count": null,
      "outputs": []
    }
  ]
}